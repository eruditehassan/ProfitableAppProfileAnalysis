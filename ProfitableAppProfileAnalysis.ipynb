{
 "cells": [
  {
   "cell_type": "markdown",
   "metadata": {
    "collapsed": true
   },
   "source": [
    "# Profitable App profiles analysis for the App Store and Google Play markets\n",
    "This project aims to analyze app data from Play Store (android) and Apple app store (iOS), only free apps are considered having main income of revenue as advetisements. The income of such apps would primarily depend on the number of users using the app and engaging with the ads. \n",
    "\n",
    "The goal of this project is to analyze the data so that developers can use it to find potential categories or types of apps that can be profitable for them"
   ]
  },
  {
   "cell_type": "code",
   "execution_count": 2,
   "metadata": {
    "collapsed": true
   },
   "outputs": [],
   "source": [
    "#Imports\n",
    "from csv import reader"
   ]
  },
  {
   "cell_type": "code",
   "execution_count": 3,
   "metadata": {
    "collapsed": true
   },
   "outputs": [],
   "source": [
    "def explore_data(dataset, start, end, rows_and_columns=False):\n",
    "    dataset_slice = dataset[start:end]    \n",
    "    for row in dataset_slice:\n",
    "        print(row)\n",
    "        print('\\n') # adds a new (empty) line after each row\n",
    "\n",
    "    if rows_and_columns:\n",
    "        print('Number of rows:', len(dataset))\n",
    "        print('Number of columns:', len(dataset[0]))"
   ]
  },
  {
   "cell_type": "code",
   "execution_count": 4,
   "metadata": {
    "collapsed": false
   },
   "outputs": [],
   "source": [
    "apple_data = list(reader(open('AppleStore.csv',encoding='utf-8')))\n",
    "google_data = list(reader(open('googleplaystore.csv',encoding='utf-8')))"
   ]
  },
  {
   "cell_type": "code",
   "execution_count": 5,
   "metadata": {
    "collapsed": false
   },
   "outputs": [
    {
     "name": "stdout",
     "output_type": "stream",
     "text": [
      "['284882215', 'Facebook', '389879808', 'USD', '0.0', '2974676', '212', '3.5', '3.5', '95.0', '4+', 'Social Networking', '37', '1', '29', '1']\n",
      "\n",
      "\n",
      "['389801252', 'Instagram', '113954816', 'USD', '0.0', '2161558', '1289', '4.5', '4.0', '10.23', '12+', 'Photo & Video', '37', '0', '29', '1']\n",
      "\n",
      "\n",
      "Number of rows: 7198\n",
      "Number of columns: 16\n",
      "['Photo Editor & Candy Camera & Grid & ScrapBook', 'ART_AND_DESIGN', '4.1', '159', '19M', '10,000+', 'Free', '0', 'Everyone', 'Art & Design', 'January 7, 2018', '1.0.0', '4.0.3 and up']\n",
      "\n",
      "\n",
      "['Coloring book moana', 'ART_AND_DESIGN', '3.9', '967', '14M', '500,000+', 'Free', '0', 'Everyone', 'Art & Design;Pretend Play', 'January 15, 2018', '2.0.0', '4.0.3 and up']\n",
      "\n",
      "\n",
      "Number of rows: 10842\n",
      "Number of columns: 13\n"
     ]
    }
   ],
   "source": [
    "explore_data(apple_data,1,3,True)\n",
    "explore_data(google_data,1,3,True)"
   ]
  },
  {
   "cell_type": "code",
   "execution_count": 6,
   "metadata": {
    "collapsed": false
   },
   "outputs": [
    {
     "data": {
      "text/plain": [
       "['id',\n",
       " 'track_name',\n",
       " 'size_bytes',\n",
       " 'currency',\n",
       " 'price',\n",
       " 'rating_count_tot',\n",
       " 'rating_count_ver',\n",
       " 'user_rating',\n",
       " 'user_rating_ver',\n",
       " 'ver',\n",
       " 'cont_rating',\n",
       " 'prime_genre',\n",
       " 'sup_devices.num',\n",
       " 'ipadSc_urls.num',\n",
       " 'lang.num',\n",
       " 'vpp_lic']"
      ]
     },
     "execution_count": 6,
     "metadata": {},
     "output_type": "execute_result"
    }
   ],
   "source": [
    "apple_data[0]"
   ]
  },
  {
   "cell_type": "markdown",
   "metadata": {
    "collapsed": true
   },
   "source": [
    "Following columns can be helpful in the analysis\n",
    "- [Apple App Store](https://www.kaggle.com/ramamet4/app-store-apple-data-set-10k-apps)\n",
    "    - track_name (App name)\n",
    "    - ratingcounttot (Total Rating count)\n",
    "    - ratingcountver (Rating count for current version)\n",
    "    - user_rating (Average user rating for all versions)\n",
    "    - cont_rating (Content Rating)\n",
    "    - prime_genre (Primary Genre)\n",
    "    - sup_devices.num (Number of supported devices)\n",
    "    \n",
    "    \n",
    "- [Google Play Store](https://www.kaggle.com/lava18/google-play-store-apps)\n",
    "    - app\n",
    "    - category\n",
    "    - rating (overall user rating)\n",
    "    - reviews (number of user reviews)\n",
    "    - installs (number of installs)\n",
    "    - content rating\n",
    "    - genres\n",
    "    - android version"
   ]
  },
  {
   "cell_type": "markdown",
   "metadata": {},
   "source": [
    "# Data Cleaning \n",
    "\n",
    "\n",
    "We opened the two data sets and performed a brief exploration of the data. Before beginning our analysis, we need to make sure the data we analyze is accurate, otherwise the results of our analysis will be wrong. This means that we need to:\n",
    "\n",
    "- Detect inaccurate data, and correct or remove it.\n",
    "- Detect duplicate data, and remove the duplicates.\n",
    "\n",
    "At our company, we only build apps that are free to download and install, and that are directed toward an English-speaking audience. This means that we'll need to:\n",
    "\n",
    "- Remove non-English apps like 爱奇艺PPS -《欢乐颂2》电视剧热播.\n",
    "- Remove apps that aren't free.\n"
   ]
  },
  {
   "cell_type": "code",
   "execution_count": 7,
   "metadata": {
    "collapsed": false
   },
   "outputs": [
    {
     "name": "stdout",
     "output_type": "stream",
     "text": [
      "['Life Made WI-Fi Touchscreen Photo Frame', '1.9', '19', '3.0M', '1,000+', 'Free', '0', 'Everyone', '', 'February 11, 2018', '1.0.19', '4.0 and up']\n",
      "\n"
     ]
    }
   ],
   "source": [
    "print(google_data[10473])\n",
    "print(google_data[10473][8])"
   ]
  },
  {
   "cell_type": "markdown",
   "metadata": {},
   "source": [
    "Checking the row no 10473 (including header), it can be seen that it is missing the `Rating` and a column shift happens to the next columns. \n",
    "> To fix this, removing this row\n"
   ]
  },
  {
   "cell_type": "code",
   "execution_count": 8,
   "metadata": {
    "collapsed": true
   },
   "outputs": [],
   "source": [
    "del google_data[10473]"
   ]
  },
  {
   "cell_type": "markdown",
   "metadata": {},
   "source": [
    "## Removing Duplicate Apps\n",
    "On observing, we found that there are many apps with duplicate entries, for example the Instagram app has 4 entries, while to clean the data we only need one entry per application to make the analysis smooth and accurate."
   ]
  },
  {
   "cell_type": "code",
   "execution_count": 9,
   "metadata": {
    "collapsed": false
   },
   "outputs": [
    {
     "name": "stdout",
     "output_type": "stream",
     "text": [
      "['Instagram', 'SOCIAL', '4.5', '66577313', 'Varies with device', '1,000,000,000+', 'Free', '0', 'Teen', 'Social', 'July 31, 2018', 'Varies with device', 'Varies with device']\n",
      "['Instagram', 'SOCIAL', '4.5', '66577446', 'Varies with device', '1,000,000,000+', 'Free', '0', 'Teen', 'Social', 'July 31, 2018', 'Varies with device', 'Varies with device']\n",
      "['Instagram', 'SOCIAL', '4.5', '66577313', 'Varies with device', '1,000,000,000+', 'Free', '0', 'Teen', 'Social', 'July 31, 2018', 'Varies with device', 'Varies with device']\n",
      "['Instagram', 'SOCIAL', '4.5', '66509917', 'Varies with device', '1,000,000,000+', 'Free', '0', 'Teen', 'Social', 'July 31, 2018', 'Varies with device', 'Varies with device']\n"
     ]
    }
   ],
   "source": [
    "for app in google_data:\n",
    "    name = app[0]\n",
    "    if name == 'Instagram':\n",
    "        print(app)"
   ]
  },
  {
   "cell_type": "markdown",
   "metadata": {},
   "source": [
    "Which shows that Instagram has 4 entries"
   ]
  },
  {
   "cell_type": "markdown",
   "metadata": {},
   "source": [
    "### Counting number of duplicates"
   ]
  },
  {
   "cell_type": "code",
   "execution_count": 10,
   "metadata": {
    "collapsed": true
   },
   "outputs": [],
   "source": [
    "def play_store_duplicate_finder(dataset):\n",
    "    duplicate_apps = []\n",
    "    unique_apps = []\n",
    "    for app in dataset:\n",
    "        name = app[0]\n",
    "        if name in unique_apps:\n",
    "            duplicate_apps.append(name)\n",
    "        else:\n",
    "            unique_apps.append(name)\n",
    "    return duplicate_apps,unique_apps\n",
    "\n",
    "def apple_store_duplicate_finder(dataset):\n",
    "    duplicate_apps = []\n",
    "    unique_apps = []\n",
    "    for app in dataset:\n",
    "        name = app[1]\n",
    "        if name in unique_apps:\n",
    "            duplicate_apps.append(name)\n",
    "        else:\n",
    "            unique_apps.append(name)\n",
    "    return duplicate_apps,unique_apps"
   ]
  },
  {
   "cell_type": "code",
   "execution_count": 11,
   "metadata": {
    "collapsed": false
   },
   "outputs": [],
   "source": [
    "google_dup, google_unique = play_store_duplicate_finder(google_data[1:])\n",
    "apple_dup, apple_unique = apple_store_duplicate_finder(apple_data[1:])"
   ]
  },
  {
   "cell_type": "code",
   "execution_count": 12,
   "metadata": {
    "collapsed": false
   },
   "outputs": [
    {
     "name": "stdout",
     "output_type": "stream",
     "text": [
      "Number of duplicate apps (Play Store): 1181\n",
      "Number of duplicate apps (App Store) : 2 \n"
     ]
    }
   ],
   "source": [
    "print(\"Number of duplicate apps (Play Store): {}\".format(len(google_dup)))\n",
    "print(\"Number of duplicate apps (App Store) : {} \".format(len(apple_dup)))"
   ]
  },
  {
   "cell_type": "markdown",
   "metadata": {},
   "source": [
    "This shows that we have 1181 duplicate entries, they must be removed from the dataset to make the analysis smooth"
   ]
  },
  {
   "cell_type": "markdown",
   "metadata": {},
   "source": [
    "### Removing the duplicates\n",
    "Duplicates can not be randomly and carelessly removed. There must be a proper criteria to remove them. Some things must be kept in mind:\n",
    "- The duplicate entries are the entries of the same app taken at different times, so the most recent one must be maintained\n",
    "- If the recent one is removed and an old entry is maintained, it means that we will not have up to date informatino to perform the analysis and results may be faulty"
   ]
  },
  {
   "cell_type": "code",
   "execution_count": 13,
   "metadata": {
    "collapsed": false
   },
   "outputs": [
    {
     "data": {
      "text/plain": [
       "'159'"
      ]
     },
     "execution_count": 13,
     "metadata": {},
     "output_type": "execute_result"
    }
   ],
   "source": [
    "google_data[1][3]"
   ]
  },
  {
   "cell_type": "code",
   "execution_count": 14,
   "metadata": {
    "collapsed": false
   },
   "outputs": [],
   "source": [
    "google_reviews_max = {}\n",
    "for app in google_data[1:]:\n",
    "    name = app[0]\n",
    "    n_reviews = float(app[3])\n",
    "    if (name in google_reviews_max):\n",
    "        if ((n_reviews > google_reviews_max[name])):\n",
    "            google_reviews_max[name] = n_reviews\n",
    "    elif (name not in google_reviews_max):\n",
    "        google_reviews_max[name] = n_reviews"
   ]
  },
  {
   "cell_type": "code",
   "execution_count": 15,
   "metadata": {
    "collapsed": false
   },
   "outputs": [
    {
     "data": {
      "text/plain": [
       "9659"
      ]
     },
     "execution_count": 15,
     "metadata": {},
     "output_type": "execute_result"
    }
   ],
   "source": [
    "# Number of unique apps\n",
    "len(google_reviews_max)"
   ]
  },
  {
   "cell_type": "markdown",
   "metadata": {},
   "source": [
    "Creating a new dataset with only unique entries having the most up to date data"
   ]
  },
  {
   "cell_type": "code",
   "execution_count": 16,
   "metadata": {
    "collapsed": true
   },
   "outputs": [],
   "source": [
    "android_clean = []\n",
    "already_added = []\n",
    "\n",
    "for app in google_data[1:]:\n",
    "    name = app[0]\n",
    "    n_reviews = float(app[3])\n",
    "    if (n_reviews == google_reviews_max[name] and (name not in already_added)):\n",
    "        android_clean.append(app)\n",
    "        already_added.append(name)"
   ]
  },
  {
   "cell_type": "code",
   "execution_count": 17,
   "metadata": {
    "collapsed": false
   },
   "outputs": [
    {
     "name": "stdout",
     "output_type": "stream",
     "text": [
      "['Photo Editor & Candy Camera & Grid & ScrapBook', 'ART_AND_DESIGN', '4.1', '159', '19M', '10,000+', 'Free', '0', 'Everyone', 'Art & Design', 'January 7, 2018', '1.0.0', '4.0.3 and up']\n",
      "9659\n"
     ]
    }
   ],
   "source": [
    "print(android_clean[0])\n",
    "print(len(android_clean))"
   ]
  },
  {
   "cell_type": "markdown",
   "metadata": {},
   "source": [
    "Hence, `android_clean` is now the dataset with all unique entries having up to date values, and as we can see the number of entries are 9659 which is same as the number we found earlier"
   ]
  },
  {
   "cell_type": "markdown",
   "metadata": {},
   "source": [
    "## Removing non-English apps\n",
    "We use English for the apps we develop at our company, and we'd like to analyze only the apps that are directed toward an English-speaking audience. However, if we explore the data long enough, we'll find that both data sets have apps with names that suggest they are not directed toward an English-speaking audience.\n",
    "We're not interested in keeping these apps, so we'll remove them. One way to go about this is to remove each app with a name containing a symbol that is not commonly used in English text — English text usually includes letters from the English alphabet, numbers composed of digits from 0 to 9, punctuation marks (., !, ?, ;), and other symbols (+, *, /).\n",
    "\n",
    "Behind the scenes, each character we use in a string has a corresponding number associated with it. For instance, the corresponding number for character `a` is 97, character `A` is 65, and character `爱` is 29,233. We can get the corresponding number of each character using the `ord()` built-in function."
   ]
  },
  {
   "cell_type": "markdown",
   "metadata": {},
   "source": [
    "The numbers corresponding to the characters we commonly use in an English text are all in the range 0 to 127, according to the ASCII (American Standard Code for Information Interchange) system. Based on this number range, we can build a function that detects whether a character belongs to the set of common English characters or not. If the number is equal to or less than 127, then the character belongs to the set of common English characters.\n",
    "\n",
    "If an app name contains a character that is greater than 127, then it probably means that the app has a non-English name. Our app names, however, are stored as strings, so how could we take each individual character of a string and check its corresponding number?\n",
    "\n",
    "In Python, strings are indexable and iterable, which means we can use indexing to select an individual character, and we can also iterate on the string using a for loop."
   ]
  },
  {
   "cell_type": "markdown",
   "metadata": {},
   "source": [
    "### Starting with the process"
   ]
  },
  {
   "cell_type": "code",
   "execution_count": 18,
   "metadata": {
    "collapsed": true
   },
   "outputs": [],
   "source": [
    "# A function to check whether a string is in English or not\n",
    "def english_word(string):\n",
    "    for letter in string:\n",
    "        if ord(letter) > 127:\n",
    "            return False\n",
    "    return True"
   ]
  },
  {
   "cell_type": "code",
   "execution_count": 19,
   "metadata": {
    "collapsed": false
   },
   "outputs": [
    {
     "name": "stdout",
     "output_type": "stream",
     "text": [
      "True\n",
      "False\n",
      "False\n",
      "False\n"
     ]
    }
   ],
   "source": [
    "#Testing on a few examples\n",
    "print(english_word('Instagram'))\n",
    "print(english_word('爱奇艺PPS -《欢乐颂2》电视剧热播'))\n",
    "print(english_word('Docs To Go™ Free Office Suite'))\n",
    "print(english_word('Instachat 😜'))"
   ]
  },
  {
   "cell_type": "markdown",
   "metadata": {},
   "source": [
    "`english_word` function detects non-English app names, but we saw that the function couldn't correctly identify certain English app names like 'Docs To Go™ Free Office Suite' and 'Instachat 😜'. This is because emojis and characters like ™ fall outside the ASCII range and have corresponding numbers over 127.\n",
    "\n",
    "If we're going to use the function we've created, we'll lose useful data since many English apps will be incorrectly labeled as non-English. To minimize the impact of data loss, we'll only remove an app if its name has more than three characters with corresponding numbers falling outside the ASCII range. This means all English apps with up to three emoji or other special characters will still be labeled as English. Our filter function is still not perfect, but it should be fairly effective."
   ]
  },
  {
   "cell_type": "code",
   "execution_count": 20,
   "metadata": {
    "collapsed": true
   },
   "outputs": [],
   "source": [
    "# Rewriting the function according to the new requirement\n",
    "def english_word(string):\n",
    "    count = 0\n",
    "    for letter in string:\n",
    "        if ord(letter) > 127:\n",
    "            count+=1\n",
    "    if count >= 3:\n",
    "        return False\n",
    "    return True\n",
    "    "
   ]
  },
  {
   "cell_type": "code",
   "execution_count": 21,
   "metadata": {
    "collapsed": false
   },
   "outputs": [
    {
     "name": "stdout",
     "output_type": "stream",
     "text": [
      "True\n",
      "False\n",
      "True\n",
      "True\n"
     ]
    }
   ],
   "source": [
    "# Testing again on a few examples\n",
    "print(english_word('Instagram'))\n",
    "print(english_word('爱奇艺PPS -《欢乐颂2》电视剧热播'))\n",
    "print(english_word('Docs To Go™ Free Office Suite'))\n",
    "print(english_word('Instachat 😜'))"
   ]
  },
  {
   "cell_type": "markdown",
   "metadata": {},
   "source": [
    "### Extracting English Apps\n",
    "Creating a filter that will use `english_word` function and extract the english apps from any dataset of android play store"
   ]
  },
  {
   "cell_type": "code",
   "execution_count": 22,
   "metadata": {
    "collapsed": true
   },
   "outputs": [],
   "source": [
    "def english_filter(dataset,index):\n",
    "    output = []\n",
    "    for app in dataset:\n",
    "        name = app[index]\n",
    "        if (english_word(name)):\n",
    "            output.append(app)\n",
    "    return output"
   ]
  },
  {
   "cell_type": "code",
   "execution_count": 23,
   "metadata": {
    "collapsed": true
   },
   "outputs": [],
   "source": [
    "android_english = english_filter(android_clean,0) \n",
    "ios_english = english_filter(apple_data[1:],1)"
   ]
  },
  {
   "cell_type": "code",
   "execution_count": 24,
   "metadata": {
    "collapsed": false
   },
   "outputs": [
    {
     "name": "stdout",
     "output_type": "stream",
     "text": [
      "9659\n",
      "7197\n"
     ]
    }
   ],
   "source": [
    "# Before removing non-English apps\n",
    "print(len(android_clean))\n",
    "print(len(apple_data[1:]))"
   ]
  },
  {
   "cell_type": "code",
   "execution_count": 25,
   "metadata": {
    "collapsed": false
   },
   "outputs": [
    {
     "name": "stdout",
     "output_type": "stream",
     "text": [
      "9597\n",
      "6155\n"
     ]
    }
   ],
   "source": [
    "# After removing non-English apps\n",
    "print(len(android_english))\n",
    "print(len(ios_english))"
   ]
  },
  {
   "cell_type": "markdown",
   "metadata": {},
   "source": [
    "## Extracting free apps\n",
    "So far in the data cleaning process, we:\n",
    "\n",
    "- Removed inaccurate data\n",
    "- Removed duplicate app entries\n",
    "- Removed non-English apps\n",
    "\n",
    "As we mentioned earlier, we only build apps that are free to download and install, and our main source of revenue consists of in-app ads. Our data sets contain both free and non-free apps; we'll need to isolate only the free apps for our analysis."
   ]
  },
  {
   "cell_type": "markdown",
   "metadata": {},
   "source": [
    "### Finding required column\n",
    "Checking which column will tell us whether the app is free or not"
   ]
  },
  {
   "cell_type": "code",
   "execution_count": 26,
   "metadata": {
    "collapsed": false
   },
   "outputs": [
    {
     "name": "stdout",
     "output_type": "stream",
     "text": [
      "['App', 'Category', 'Rating', 'Reviews', 'Size', 'Installs', 'Type', 'Price', 'Content Rating', 'Genres', 'Last Updated', 'Current Ver', 'Android Ver']\n",
      "Free\n"
     ]
    }
   ],
   "source": [
    "print(google_data[0])\n",
    "print(android_english[0][6])"
   ]
  },
  {
   "cell_type": "code",
   "execution_count": 27,
   "metadata": {
    "collapsed": false
   },
   "outputs": [
    {
     "name": "stdout",
     "output_type": "stream",
     "text": [
      "['id', 'track_name', 'size_bytes', 'currency', 'price', 'rating_count_tot', 'rating_count_ver', 'user_rating', 'user_rating_ver', 'ver', 'cont_rating', 'prime_genre', 'sup_devices.num', 'ipadSc_urls.num', 'lang.num', 'vpp_lic']\n",
      "0.0\n"
     ]
    }
   ],
   "source": [
    "print(apple_data[0])\n",
    "print(ios_english[0][4])"
   ]
  },
  {
   "cell_type": "markdown",
   "metadata": {},
   "source": [
    "As we can see that the index 6 for Android store data indicates the `type`, whether the app is free or paid and index 4 for Apple store indicates the `price`, which tells whether app is free or not. We can use that to do further analysis"
   ]
  },
  {
   "cell_type": "markdown",
   "metadata": {},
   "source": [
    "## Extracting free apps\n",
    "Writing a function that will be able to extract free apps from any google play store dataset"
   ]
  },
  {
   "cell_type": "code",
   "execution_count": 28,
   "metadata": {
    "collapsed": true
   },
   "outputs": [],
   "source": [
    "def android_free_extractor(dataset):\n",
    "    output = []\n",
    "    for app in dataset:\n",
    "        app_type = app[6]\n",
    "        if (app_type == 'Free'):\n",
    "            output.append(app)\n",
    "    return output\n",
    "\n",
    "def apple_free_extractor(dataset):\n",
    "    output= []\n",
    "    for app in dataset:\n",
    "        app_price = float(app[4])\n",
    "        if (app_price == 0.0):\n",
    "            output.append(app)\n",
    "    return output"
   ]
  },
  {
   "cell_type": "code",
   "execution_count": 29,
   "metadata": {
    "collapsed": true
   },
   "outputs": [],
   "source": [
    "android_free = android_free_extractor(android_english)\n",
    "ios_free = apple_free_extractor(ios_english)"
   ]
  },
  {
   "cell_type": "code",
   "execution_count": 30,
   "metadata": {
    "collapsed": false
   },
   "outputs": [
    {
     "name": "stdout",
     "output_type": "stream",
     "text": [
      "8847\n",
      "3203\n"
     ]
    }
   ],
   "source": [
    "print(len(android_free))\n",
    "print(len(ios_free))"
   ]
  },
  {
   "cell_type": "markdown",
   "metadata": {},
   "source": [
    "## Finding most common genres\n",
    "So far, we spent a good amount of time on cleaning data, and:\n",
    "\n",
    "- Removed inaccurate data\n",
    "- Removed duplicate app entries\n",
    "- Removed non-English apps\n",
    "- Isolated the free apps\n",
    "\n",
    "As we mentioned earlier, our aim is to determine the kinds of apps that are likely to attract more users because our revenue is highly influenced by the number of people using our apps.\n",
    "\n",
    "To minimize risks and overhead, our validation strategy for an app idea is comprised of three steps:\n",
    "\n",
    "- Build a minimal Android version of the app, and add it to Google Play.\n",
    "- If the app has a good response from users, we develop it further.\n",
    "- If the app is profitable after six months, we build an iOS version of the app and add it to the App Store.\n",
    "\n",
    "Because our end goal is to add the app on both Google Play and the App Store, we need to find app profiles that are successful on both markets. For instance, a profile that works well for both markets might be a productivity app that makes use of gamification.\n",
    "\n",
    "Let's begin the analysis by getting a sense of what are the most common genres for each market. For this, we'll need to build frequency tables for a few columns in our data sets."
   ]
  },
  {
   "cell_type": "markdown",
   "metadata": {},
   "source": [
    "### Identifying useful columns\n",
    "Checking both datasets to find which columns can help us in finding the most popular genres in each market"
   ]
  },
  {
   "cell_type": "code",
   "execution_count": 31,
   "metadata": {
    "collapsed": false
   },
   "outputs": [
    {
     "name": "stdout",
     "output_type": "stream",
     "text": [
      "['App', 'Category', 'Rating', 'Reviews', 'Size', 'Installs', 'Type', 'Price', 'Content Rating', 'Genres', 'Last Updated', 'Current Ver', 'Android Ver']\n",
      "ART_AND_DESIGN\n"
     ]
    }
   ],
   "source": [
    "print(google_data[0])\n",
    "print(android_free[0][1])"
   ]
  },
  {
   "cell_type": "code",
   "execution_count": 32,
   "metadata": {
    "collapsed": false
   },
   "outputs": [
    {
     "name": "stdout",
     "output_type": "stream",
     "text": [
      "['id', 'track_name', 'size_bytes', 'currency', 'price', 'rating_count_tot', 'rating_count_ver', 'user_rating', 'user_rating_ver', 'ver', 'cont_rating', 'prime_genre', 'sup_devices.num', 'ipadSc_urls.num', 'lang.num', 'vpp_lic']\n",
      "Photo & Video\n"
     ]
    }
   ],
   "source": [
    "print(apple_data[0])\n",
    "print(ios_free[1][11])"
   ]
  },
  {
   "cell_type": "markdown",
   "metadata": {},
   "source": [
    "Thus, `Category` column in Play store and `primay_genre` column in App Store can help us"
   ]
  },
  {
   "cell_type": "markdown",
   "metadata": {},
   "source": [
    "### Building Genre Frequency Tables\n",
    "Writing function to build frequency tables for the genres so that further analysis can take place"
   ]
  },
  {
   "cell_type": "code",
   "execution_count": 33,
   "metadata": {
    "collapsed": true
   },
   "outputs": [],
   "source": [
    "def freq_table(dataset,index):\n",
    "    freq_table = {}\n",
    "    for app in dataset:\n",
    "        genre = app[index]\n",
    "        if (genre in freq_table):\n",
    "            freq_table[genre] += 1\n",
    "        else:\n",
    "            freq_table[genre] = 1\n",
    "    #Converting to propoetions\n",
    "    total = len(dataset)\n",
    "    for entry in freq_table:\n",
    "        freq_table[entry] = float(freq_table[entry]) / total\n",
    "    return freq_table"
   ]
  },
  {
   "cell_type": "code",
   "execution_count": 34,
   "metadata": {
    "collapsed": false
   },
   "outputs": [],
   "source": [
    "def display_table(dataset,index):\n",
    "    table = freq_table(dataset,index)\n",
    "    table_display = []\n",
    "    for key in table:\n",
    "        table_display.append((table[key],key))\n",
    "    table_sorted = sorted(table_display, reverse = True)\n",
    "    for entry in table_sorted:\n",
    "        print(entry[1],':',entry[0])\n",
    "    "
   ]
  },
  {
   "cell_type": "code",
   "execution_count": 35,
   "metadata": {
    "collapsed": false
   },
   "outputs": [
    {
     "name": "stdout",
     "output_type": "stream",
     "text": [
      "FAMILY : 0.18932971628800724\n",
      "GAME : 0.09698202780603594\n",
      "TOOLS : 0.0845484344975698\n",
      "BUSINESS : 0.046004295241324746\n",
      "PRODUCTIVITY : 0.038996269922007464\n",
      "LIFESTYLE : 0.03888323725556686\n",
      "FINANCE : 0.03707471459251724\n",
      "MEDICAL : 0.03537922459590822\n",
      "SPORTS : 0.0339097999321804\n",
      "PERSONALIZATION : 0.033231603933536795\n",
      "COMMUNICATION : 0.032327342602011984\n",
      "HEALTH_AND_FITNESS : 0.030857917938284164\n",
      "PHOTOGRAPHY : 0.029501525940996948\n",
      "NEWS_AND_MAGAZINES : 0.02803210127726913\n",
      "SOCIAL : 0.026675709279981915\n",
      "TRAVEL_AND_LOCAL : 0.023397761953204477\n",
      "SHOPPING : 0.022493500621679666\n",
      "BOOKS_AND_REFERENCE : 0.021363173957273652\n",
      "DATING : 0.01865038996269922\n",
      "VIDEO_PLAYERS : 0.01797219396405561\n",
      "MAPS_AND_NAVIGATION : 0.013903017972193964\n",
      "FOOD_AND_DRINK : 0.012433593308466146\n",
      "EDUCATION : 0.011642364643381937\n",
      "ENTERTAINMENT : 0.009607776647451114\n",
      "LIBRARIES_AND_DEMO : 0.009381711314569911\n",
      "AUTO_AND_VEHICLES : 0.00926867864812931\n",
      "HOUSE_AND_HOME : 0.008025319317282694\n",
      "WEATHER : 0.007912286650842093\n",
      "EVENTS : 0.007121057985757884\n",
      "PARENTING : 0.006555894653554877\n",
      "ART_AND_DESIGN : 0.006442861987114276\n",
      "COMICS : 0.006103763987792472\n",
      "BEAUTY : 0.0059907313213518705\n"
     ]
    }
   ],
   "source": [
    "display_table(android_free,1)"
   ]
  },
  {
   "cell_type": "code",
   "execution_count": 36,
   "metadata": {
    "collapsed": false
   },
   "outputs": [
    {
     "name": "stdout",
     "output_type": "stream",
     "text": [
      "Games : 0.5825788323446769\n",
      "Entertainment : 0.07836403371838901\n",
      "Photo & Video : 0.049953168904152356\n",
      "Education : 0.036840462066812366\n",
      "Social Networking : 0.033093974399000935\n",
      "Shopping : 0.025913206369029034\n",
      "Utilities : 0.024664377146425227\n",
      "Sports : 0.021542304089915705\n",
      "Music : 0.020605682172962846\n",
      "Health & Fitness : 0.020293474867311895\n",
      "Productivity : 0.017483609116453323\n",
      "Lifestyle : 0.015610365282547611\n",
      "News : 0.013424914142990947\n",
      "Travel : 0.012488292226038089\n",
      "Finance : 0.010927255697783328\n",
      "Weather : 0.008741804558226662\n",
      "Food & Drink : 0.008117389946924758\n",
      "Reference : 0.005307524196066188\n",
      "Business : 0.005307524196066188\n",
      "Book : 0.003746487667811427\n",
      "Navigation : 0.0018732438339057135\n",
      "Medical : 0.0018732438339057135\n",
      "Catalogs : 0.001248829222603809\n"
     ]
    }
   ],
   "source": [
    "display_table(ios_free,11)"
   ]
  },
  {
   "cell_type": "markdown",
   "metadata": {},
   "source": [
    "### Observation from genre table\n",
    " Observing the apple app store applications, it can be seen that `Games` and `Entertainment` are the most popular genres on iOS market, and `Family` and `Games` are the most popular on Android store. Moreover, there is another pattern that shows that most applications which are popular are enterntainment and fun based, like gaming, photo and videos, etc.\n",
    "\n",
    "Although, `Games` genre has the highest number of apps, but it doesn't necessarily mean that it would have the highest number of users as well. Moreover, at this stage, we can not suggest an app profile to our developers, further analysis is required."
   ]
  },
  {
   "cell_type": "markdown",
   "metadata": {},
   "source": [
    "## Finding average number of users per genre\n",
    "The frequency tables we analyzed previously showed us that the App Store is dominated by apps designed for fun, while Google Play shows a more balanced landscape of both practical and fun apps. Now, we'd like to get an idea about the kind of apps with the most users.\n",
    "\n",
    "One way to find out what genres are the most popular (have the most users) is to calculate the average number of installs for each app genre. For the Google Play data set, we can find this information in the `Installs` column, but this information is missing for the App Store data set. As a workaround, we'll take the total number of user ratings as a proxy, which we can find in the `rating_count_tot` app."
   ]
  },
  {
   "cell_type": "code",
   "execution_count": 40,
   "metadata": {
    "collapsed": false
   },
   "outputs": [],
   "source": [
    "apple_genres = freq_table(ios_free,11)"
   ]
  },
  {
   "cell_type": "code",
   "execution_count": 41,
   "metadata": {
    "collapsed": true
   },
   "outputs": [],
   "source": [
    "def apple_genre_users(freq_table,dataset):\n",
    "    avg_user_rating = []\n",
    "    for genre in freq_table:\n",
    "        total = 0\n",
    "        len_genre = 0\n",
    "        for app in dataset:\n",
    "            genre_app = app[11]\n",
    "            n_user_rating = float(app[5]) # user rating count is on index 5\n",
    "            if (genre == genre_app):\n",
    "                total += n_user_rating\n",
    "                len_genre += 1\n",
    "        avg_user_rating.append((float(total) / len_genre,genre))  \n",
    "    # Sorting the results    \n",
    "    avg_user_rating = sorted(avg_user_rating,reverse = True)\n",
    "    for entry in avg_user_rating:\n",
    "        print(entry[1],':',entry[0])"
   ]
  },
  {
   "cell_type": "code",
   "execution_count": 42,
   "metadata": {
    "collapsed": false
   },
   "outputs": [
    {
     "name": "stdout",
     "output_type": "stream",
     "text": [
      "Navigation : 86090.33333333333\n",
      "Reference : 79350.4705882353\n",
      "Social Networking : 71548.34905660378\n",
      "Music : 57326.530303030304\n",
      "Weather : 52279.892857142855\n",
      "Book : 46384.916666666664\n",
      "Food & Drink : 33333.92307692308\n",
      "Finance : 32367.02857142857\n",
      "Photo & Video : 28441.54375\n",
      "Travel : 28243.8\n",
      "Shopping : 27230.734939759037\n",
      "Health & Fitness : 23298.015384615384\n",
      "Sports : 23008.898550724636\n",
      "Games : 22886.36709539121\n",
      "News : 21248.023255813954\n",
      "Productivity : 21028.410714285714\n",
      "Utilities : 19156.493670886077\n",
      "Lifestyle : 16815.48\n",
      "Entertainment : 14195.358565737051\n",
      "Business : 7491.117647058823\n",
      "Education : 7003.983050847458\n",
      "Catalogs : 4004.0\n",
      "Medical : 612.0\n"
     ]
    }
   ],
   "source": [
    "apple_genre_users(apple_genres,ios_free)"
   ]
  },
  {
   "cell_type": "markdown",
   "metadata": {},
   "source": [
    "### Observation\n",
    "`Navigation` clearly dominates the market when it comes to average number of users per genre, although there is one problem with that genre, it is fundamentally dominated by a few giants like Google Maps and trying to enter this market could prove to be a bad and expensive move.\n",
    "\n",
    "`Social Networking` is also dominated by Facebook, Whatsapp, Snapchat and Instagram, etc. `Music` which is a better opportunity for our developers to enter. After that `Reference`,`Weather` and `Book` would not be bad choices either."
   ]
  },
  {
   "cell_type": "code",
   "execution_count": 43,
   "metadata": {
    "collapsed": true
   },
   "outputs": [],
   "source": [
    "android_genres = freq_table(android_free,1)"
   ]
  },
  {
   "cell_type": "code",
   "execution_count": 44,
   "metadata": {
    "collapsed": true
   },
   "outputs": [],
   "source": [
    "def android_installs(freq_table,dataset):\n",
    "    avg_installs_category = []\n",
    "    for category in android_genres:\n",
    "        total = 0\n",
    "        len_category = 0\n",
    "        for app in dataset:\n",
    "            app_category = app[1]\n",
    "            if (category == app_category):\n",
    "                installs = app[5].replace('+','')\n",
    "                installs = float(installs.replace(',',''))\n",
    "                total += installs\n",
    "                len_category+=1\n",
    "        avg_installs_category.append((float(total) / len_category,category))\n",
    "    # Sorting the results    \n",
    "    avg_installs_category = sorted(avg_installs_category,reverse = True)\n",
    "    for entry in avg_installs_category:\n",
    "        print(entry[1],':',entry[0])"
   ]
  },
  {
   "cell_type": "code",
   "execution_count": 45,
   "metadata": {
    "collapsed": false
   },
   "outputs": [
    {
     "name": "stdout",
     "output_type": "stream",
     "text": [
      "COMMUNICATION : 38590581.08741259\n",
      "VIDEO_PLAYERS : 24727872.452830188\n",
      "SOCIAL : 23253652.127118643\n",
      "PHOTOGRAPHY : 17840110.40229885\n",
      "PRODUCTIVITY : 16787331.344927534\n",
      "GAME : 15544014.51048951\n",
      "TRAVEL_AND_LOCAL : 13984077.710144928\n",
      "ENTERTAINMENT : 11640705.88235294\n",
      "TOOLS : 10830251.970588235\n",
      "NEWS_AND_MAGAZINES : 9549178.467741935\n",
      "BOOKS_AND_REFERENCE : 8814199.78835979\n",
      "SHOPPING : 7036877.311557789\n",
      "PERSONALIZATION : 5201482.6122448975\n",
      "WEATHER : 5145550.285714285\n",
      "HEALTH_AND_FITNESS : 4188821.9853479853\n",
      "MAPS_AND_NAVIGATION : 4049274.6341463416\n",
      "FAMILY : 3697848.1731343283\n",
      "SPORTS : 3650602.276666667\n",
      "ART_AND_DESIGN : 1986335.0877192982\n",
      "FOOD_AND_DRINK : 1924897.7363636363\n",
      "EDUCATION : 1833495.145631068\n",
      "BUSINESS : 1712290.1474201474\n",
      "LIFESTYLE : 1446158.2238372094\n",
      "FINANCE : 1387692.475609756\n",
      "HOUSE_AND_HOME : 1360598.042253521\n",
      "DATING : 854028.8303030303\n",
      "COMICS : 832613.8888888889\n",
      "AUTO_AND_VEHICLES : 647317.8170731707\n",
      "LIBRARIES_AND_DEMO : 638503.734939759\n",
      "PARENTING : 542603.6206896552\n",
      "BEAUTY : 513151.88679245283\n",
      "EVENTS : 253542.22222222222\n",
      "MEDICAL : 120550.61980830671\n"
     ]
    }
   ],
   "source": [
    "android_installs(android_genres,android_free)"
   ]
  },
  {
   "cell_type": "code",
   "execution_count": 51,
   "metadata": {
    "collapsed": true
   },
   "outputs": [],
   "source": [
    "def display_apps_android(category,dataset):\n",
    "    count = 10\n",
    "    for app in dataset:\n",
    "        if (app[1] == category):\n",
    "            print(app[0],':',app[5])\n",
    "            count -= 1\n",
    "        if count == 0:\n",
    "            break"
   ]
  },
  {
   "cell_type": "code",
   "execution_count": 52,
   "metadata": {
    "collapsed": false
   },
   "outputs": [
    {
     "name": "stdout",
     "output_type": "stream",
     "text": [
      "WhatsApp Messenger : 1,000,000,000+\n",
      "Messenger for SMS : 10,000,000+\n",
      "My Tele2 : 5,000,000+\n",
      "imo beta free calls and text : 100,000,000+\n",
      "Contacts : 50,000,000+\n",
      "Call Free – Free Call : 5,000,000+\n",
      "Web Browser & Explorer : 5,000,000+\n",
      "Browser 4G : 10,000,000+\n",
      "MegaFon Dashboard : 10,000,000+\n",
      "ZenUI Dialer & Contacts : 10,000,000+\n"
     ]
    }
   ],
   "source": [
    "display_apps_android('COMMUNICATION',android_free)"
   ]
  },
  {
   "cell_type": "code",
   "execution_count": 53,
   "metadata": {
    "collapsed": false
   },
   "outputs": [
    {
     "name": "stdout",
     "output_type": "stream",
     "text": [
      "YouTube : 1,000,000,000+\n",
      "All Video Downloader 2018 : 1,000,000+\n",
      "Video Downloader : 10,000,000+\n",
      "HD Video Player : 1,000,000+\n",
      "Iqiyi (for tablet) : 1,000,000+\n",
      "Video Player All Format : 10,000,000+\n",
      "Motorola Gallery : 100,000,000+\n",
      "Free TV series : 100,000+\n",
      "Video Player All Format for Android : 500,000+\n",
      "VLC for Android : 100,000,000+\n"
     ]
    }
   ],
   "source": [
    "display_apps_android('VIDEO_PLAYERS',android_free)"
   ]
  },
  {
   "cell_type": "code",
   "execution_count": 57,
   "metadata": {
    "collapsed": false
   },
   "outputs": [
    {
     "name": "stdout",
     "output_type": "stream",
     "text": [
      "Facebook : 1,000,000,000+\n",
      "Facebook Lite : 500,000,000+\n",
      "Tumblr : 100,000,000+\n",
      "Social network all in one 2018 : 100,000+\n",
      "Pinterest : 100,000,000+\n",
      "TextNow - free text + calls : 10,000,000+\n",
      "Google+ : 1,000,000,000+\n",
      "The Messenger App : 1,000,000+\n",
      "Messenger Pro : 1,000,000+\n",
      "Free Messages, Video, Chat,Text for Messenger Plus : 1,000,000+\n"
     ]
    }
   ],
   "source": [
    "display_apps_android('SOCIAL',android_free)"
   ]
  },
  {
   "cell_type": "code",
   "execution_count": 59,
   "metadata": {
    "collapsed": false
   },
   "outputs": [
    {
     "name": "stdout",
     "output_type": "stream",
     "text": [
      "TouchNote: Cards & Gifts : 1,000,000+\n",
      "FreePrints – Free Photos Delivered : 1,000,000+\n",
      "Groovebook Photo Books & Gifts : 500,000+\n",
      "Moony Lab - Print Photos, Books & Magnets ™ : 50,000+\n",
      "LALALAB prints your photos, photobooks and magnets : 1,000,000+\n",
      "Snapfish : 1,000,000+\n",
      "Motorola Camera : 50,000,000+\n",
      "HD Camera - Best Cam with filters & panorama : 5,000,000+\n",
      "LightX Photo Editor & Photo Effects : 10,000,000+\n",
      "Sweet Snap - live filter, Selfie photo edit : 10,000,000+\n"
     ]
    }
   ],
   "source": [
    "display_apps_android('PHOTOGRAPHY',android_free)"
   ]
  },
  {
   "cell_type": "code",
   "execution_count": 60,
   "metadata": {
    "collapsed": false
   },
   "outputs": [
    {
     "name": "stdout",
     "output_type": "stream",
     "text": [
      "Microsoft Word : 500,000,000+\n",
      "All-In-One Toolbox: Cleaner, Booster, App Manager : 10,000,000+\n",
      "AVG Cleaner – Speed, Battery & Memory Booster : 10,000,000+\n",
      "QR Scanner & Barcode Scanner 2018 : 10,000,000+\n",
      "Chrome Beta : 10,000,000+\n",
      "Microsoft Outlook : 100,000,000+\n",
      "Google PDF Viewer : 10,000,000+\n",
      "My Claro Peru : 5,000,000+\n",
      "Power Booster - Junk Cleaner & CPU Cooler & Boost : 1,000,000+\n",
      "Google Assistant : 10,000,000+\n"
     ]
    }
   ],
   "source": [
    "display_apps_android('PRODUCTIVITY',android_free)"
   ]
  },
  {
   "cell_type": "markdown",
   "metadata": {},
   "source": [
    "### Analysis\n",
    "After checking out some applications in the top categories, it is clear that `COMMUNICATION` category is dominated by giants like `Whatsapp Messenger`, category of `VIDEO_PLAYERS` is dominated by giants like `Youtube`, same goes for `SOCIAL` which is dominated by "
   ]
  }
 ],
 "metadata": {
  "kernelspec": {
   "display_name": "Python 3",
   "language": "python",
   "name": "python3"
  },
  "language_info": {
   "codemirror_mode": {
    "name": "ipython",
    "version": 3
   },
   "file_extension": ".py",
   "mimetype": "text/x-python",
   "name": "python",
   "nbconvert_exporter": "python",
   "pygments_lexer": "ipython3",
   "version": "3.4.3"
  }
 },
 "nbformat": 4,
 "nbformat_minor": 2
}
